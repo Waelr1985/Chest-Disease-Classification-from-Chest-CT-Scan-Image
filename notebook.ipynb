{
 "cells": [
  {
   "cell_type": "code",
   "execution_count": 2,
   "metadata": {},
   "outputs": [
    {
     "name": "stdout",
     "output_type": "stream",
     "text": [
      "Model copied from D:\\Chest-Disease-Classification-from-Chest-CT-Scan-Image\\artifacts\\training\\model.h5 to D:\\Chest-Disease-Classification-from-Chest-CT-Scan-Image\\model\n"
     ]
    }
   ],
   "source": [
    "import shutil\n",
    "import os\n",
    "\n",
    "# Paths for the model\n",
    "source_path = r'D:\\Chest-Disease-Classification-from-Chest-CT-Scan-Image\\artifacts\\training\\model.h5'  # Update this with the actual path to your model in the artifacts\n",
    "destination_folder = r'D:\\Chest-Disease-Classification-from-Chest-CT-Scan-Image\\model'  # Update this with the path to your \"model\" folder\n",
    "\n",
    "# Ensure the destination folder exists\n",
    "if not os.path.exists(destination_folder):\n",
    "    os.makedirs(destination_folder)\n",
    "\n",
    "# Copy the model from artifacts to the \"model\" folder\n",
    "shutil.copy(source_path, destination_folder)\n",
    "\n",
    "print(f'Model copied from {source_path} to {destination_folder}')\n"
   ]
  }
 ],
 "metadata": {
  "kernelspec": {
   "display_name": "chest",
   "language": "python",
   "name": "python3"
  },
  "language_info": {
   "codemirror_mode": {
    "name": "ipython",
    "version": 3
   },
   "file_extension": ".py",
   "mimetype": "text/x-python",
   "name": "python",
   "nbconvert_exporter": "python",
   "pygments_lexer": "ipython3",
   "version": "3.8.19"
  }
 },
 "nbformat": 4,
 "nbformat_minor": 2
}
